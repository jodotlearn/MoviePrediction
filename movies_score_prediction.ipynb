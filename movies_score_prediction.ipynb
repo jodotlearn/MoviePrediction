{
 "cells": [
  {
   "cell_type": "markdown",
   "metadata": {},
   "source": [
    "# Assignment 1 #   \n",
    "** Dataset: http://grouplens.org/datasets/movielens/1m/ **\n",
    "   \n",
    "   \n",
    "### Data Preprocessing ###\n"
   ]
  },
  {
   "cell_type": "code",
   "execution_count": 2,
   "metadata": {
    "collapsed": true
   },
   "outputs": [],
   "source": [
    "import os\n",
    "with open(os.getcwd()+'/ml-1m/users.dat','r') as f:\n",
    "    f_users = f.readlines()\n",
    "    \n",
    "with open(os.getcwd()+'/ml-1m/movies.dat','r') as f:\n",
    "    f_movies = f.readlines()\n",
    "    \n",
    "with open(os.getcwd()+'/ml-1m/ratings.dat','r') as f:\n",
    "    f_ratings = f.readlines();"
   ]
  },
  {
   "cell_type": "code",
   "execution_count": 3,
   "metadata": {
    "collapsed": true
   },
   "outputs": [],
   "source": [
    "#prepare user dictionary\n",
    "users = {}\n",
    "for line in f_users:\n",
    "    (uid,sex,age,occupation,zipcode) = line.split('::')\n",
    "    users[uid] = {\n",
    "        'sex':sex,\n",
    "        'age':int(age)\n",
    "    }\n",
    "    \n",
    "#prepare movie name dictionary\n",
    "movies = {}\n",
    "for line in f_movies:\n",
    "    (mid,title,genres) = line.split('::')\n",
    "    movies[mid] = title\n",
    "\n",
    "#prepsare rating dictionary\n",
    "critics = {}\n",
    "for line in f_ratings:\n",
    "    (uid,mid,rating,timestamp) = line.split('::')\n",
    "    if uid not in critics:\n",
    "        critics[uid] = {}\n",
    "    critics[uid][movies[mid]] = float(rating)"
   ]
  },
  {
   "cell_type": "code",
   "execution_count": 4,
   "metadata": {
    "collapsed": false
   },
   "outputs": [],
   "source": [
    "fan_score_list = \"\"\"1::Toy Story (1995)::Animation|Children's|Comedy::5\n",
    "2::Jumanji (1995)::Adventure|Children's|Fantasy::4\n",
    "9::Sudden Death (1995)::Action::2\n",
    "10::GoldenEye (1995)::Action|Adventure|Thriller::2\n",
    "13::Balto (1995)::Animation|Children's::1\n",
    "14::Nixon (1995)::Drama::1\n",
    "17::Sense and Sensibility (1995)::Drama|Romance::1\n",
    "23::Assassins (1995)::Thriller::3\n",
    "47::Seven (Se7en) (1995)::Crime|Thriller::2\n",
    "356::Forrest Gump (1994)::Comedy|Romance|War::5\n",
    "3147::Green Mile, The (1999)::Drama|Thriller::5\n",
    "593::Silence of the Lambs, The (1991)::Drama|Thriller::2\n",
    "2028::Saving Private Ryan (1998)::Action|Drama|War::5\n",
    "838::Emma (1996)::Comedy|Drama|Romance::1\n",
    "1721::Titanic (1997)::Drama|Romance::5\n",
    "2628::Star Wars: Episode I - The Phantom Menace (1999)::Action|Adventure|Fantasy|Sci-Fi::4\n",
    "1608::Air Force One (1997)::Action|Thriller::4\n",
    "165::Die Hard: With a Vengeance (1995)::Action|Thriller::4\n",
    "589::Terminator 2: Judgment Day (1991)::Action|Sci-Fi|Thriller::2\n",
    "\"\"\"\n",
    "\n",
    "for line in fan_score_list.splitlines():\n",
    "    (mid,title,genres,rating) = line.split('::')\n",
    "    if 'fan' not in critics:\n",
    "        critics['fan'] = {}\n",
    "    critics['fan'][title] = float(rating)"
   ]
  },
  {
   "cell_type": "code",
   "execution_count": 5,
   "metadata": {
    "collapsed": false
   },
   "outputs": [],
   "source": [
    "fan_nonscore_list = \"\"\"318::Shawshank Redemption, The (1994)::Drama\n",
    "527::Schindler's List (1993)::Drama|War\n",
    "2959::Fight Club (1999)::Drama\n",
    "393::Street Fighter (1994)::Action\n",
    "3285::Beach, The (2000)::Adventure|Drama\n",
    "2571::Matrix, The (1999)::Action|Sci-Fi|Thriller\n",
    "1270::Back to the Future (1985)::Comedy|Sci-Fi\n",
    "3578::Gladiator (2000)::Action|Drama\n",
    "1200::Aliens (1986)::Action|Sci-Fi|Thriller|War\n",
    "2858::American Beauty (1999)::Comedy|Drama\n",
    "22::Copycat (1995)::Crime|Drama|Thriller\n",
    "\"\"\"\n",
    "\n",
    "predicts = {}\n",
    "for line in fan_nonscore_list.splitlines():\n",
    "    (mid,title,genres) = line.split('::')\n",
    "    predicts[title] = 'unknow'"
   ]
  },
  {
   "cell_type": "markdown",
   "metadata": {},
   "source": [
    "### Common Function Definition ###"
   ]
  },
  {
   "cell_type": "code",
   "execution_count": 6,
   "metadata": {
    "collapsed": true
   },
   "outputs": [],
   "source": [
    "from math import sqrt\n",
    "def sim_distance(prefs, p1, p2):\n",
    "    '''\n",
    "    Returns a distance-based similarity score for person1 and person2.\n",
    "    '''\n",
    "\n",
    "    # Get the list of shared_items\n",
    "    si = {}\n",
    "    for item in prefs[p1]:\n",
    "        if item in prefs[p2]:\n",
    "            si[item] = 1\n",
    "    # If they have no ratings in common, return 0\n",
    "    if len(si) == 0:\n",
    "        return 0\n",
    "    # Add up the squares of all the differences\n",
    "    sum_of_squares = sum([pow(prefs[p1][item] - prefs[p2][item], 2) for item in prefs[p1] if item in prefs[p2]])\n",
    "    return 1 / (1 + sqrt(sum_of_squares))\n",
    "\n",
    "#相似度(pearson)\n",
    "def sim_pearson(prefs, p1, p2):\n",
    "    # Get the list of mutually rated items\n",
    "    si = {}\n",
    "    for item in prefs[p1]:\n",
    "        if item in prefs[p2]:\n",
    "            si[item] = 1\n",
    "    # If they are no ratings in common, return 0\n",
    "    if len(si) == 0:\n",
    "        return 0\n",
    "    # Sum calculations\n",
    "    n = len(si)\n",
    "    # Sums of all the preferences\n",
    "    sum1 = sum([prefs[p1][it] for it in si])\n",
    "    sum2 = sum([prefs[p2][it] for it in si])\n",
    "    # Sums of the squares\n",
    "    sum1Sq = sum([pow(prefs[p1][it], 2) for it in si])\n",
    "    sum2Sq = sum([pow(prefs[p2][it], 2) for it in si])\n",
    "    # Sum of the products\n",
    "    pSum = sum([prefs[p1][it] * prefs[p2][it] for it in si])\n",
    "    # Calculate r (Pearson score)\n",
    "    num = pSum - sum1 * sum2 / n\n",
    "    den = sqrt((sum1Sq - pow(sum1, 2) / n) * (sum2Sq - pow(sum2, 2) / n))\n",
    "    if den == 0:\n",
    "        return 0\n",
    "    r = num / den\n",
    "    return r\n",
    "\n",
    "#回傳 K 個最相似的\n",
    "def topMatches(prefs, person, n=5, similarity=sim_pearson):\n",
    "    '''\n",
    "    Returns the best matches for person from the prefs dictionary. \n",
    "    Number of results and similarity function are optional params.\n",
    "    '''\n",
    "    scores = [(similarity(prefs, person, other), other) for other in prefs\n",
    "              if other != person]\n",
    "    scores.sort()\n",
    "    scores.reverse()\n",
    "    return scores[0:n]\n",
    "\n",
    "#回傳 K 個最相似的 user\n",
    "def topMatchesUser(prefs, person, n=5, min_item=5, similarity=sim_pearson):\n",
    "    scores = []\n",
    "    for other in prefs:\n",
    "        if other == person:\n",
    "            continue\n",
    "        same_item = [movie for movie in prefs[person] if movie in prefs[other]]\n",
    "        if len(same_item) < min_item:\n",
    "            continue\n",
    "        scores.append((similarity(prefs, person, other),other))\n",
    "    scores.sort()\n",
    "    scores.reverse()\n",
    "    return scores[0:n]\n",
    "\n",
    "def topMatchesItem(prefs, movie, n=10, min_item=5, similarity=sim_pearson):\n",
    "    scores = []\n",
    "    same_item = []\n",
    "    for other in prefs:\n",
    "        if movie == other:\n",
    "            continue\n",
    "        same_item = [u for u in prefs[movie] if u in prefs[other]]\n",
    "        if len(same_item) < min_item:\n",
    "            continue\n",
    "        scores.append((similarity(prefs, movie, other),other))\n",
    "    scores.sort()\n",
    "    scores.reverse()\n",
    "    return scores[0:n]\n",
    "            \n",
    "\n",
    "#轉置\n",
    "def transformPrefs(prefs):\n",
    "    '''\n",
    "    Transform the recommendations into a mapping where persons are described\n",
    "    with interest scores for a given title e.g. {title: person} instead of\n",
    "    {person: title}.\n",
    "    '''\n",
    "    result = {}\n",
    "    for person in prefs:\n",
    "        for item in prefs[person]:\n",
    "            result.setdefault(item, {})\n",
    "            # Flip item and person\n",
    "            result[item][person] = prefs[person][item]\n",
    "    return result\n"
   ]
  },
  {
   "cell_type": "markdown",
   "metadata": {},
   "source": [
    "### 1. Movie Score Prediction ###"
   ]
  },
  {
   "cell_type": "code",
   "execution_count": 7,
   "metadata": {
    "collapsed": false
   },
   "outputs": [],
   "source": [
    "import time\n",
    "\n",
    "#找出與清單相似的 item\n",
    "def calculateAllSimilarItems(prefs, item_list, n=10,similarity=sim_pearson):\n",
    "    result = {}\n",
    "    # Invert the preference matrix to be item-centric\n",
    "    itemPrefs = transformPrefs(prefs)\n",
    "    for item in itemPrefs:\n",
    "        # Find the most similar items to this one\n",
    "        if item in item_list:\n",
    "            similar_item = topMatches(itemPrefs, item, n)\n",
    "            result[item] = similar_item\n",
    "    return result\n",
    "\n",
    "#calculate the scores of the movies by user-based CF\n",
    "def calculateMoviesScoreByUserBased(prefs, person, movie_list, similarity=sim_pearson):\n",
    "    totals = {}\n",
    "    simSums = {}\n",
    "    scores = topMatchesUser(prefs, person, 10, 10)\n",
    "    for sim,other in scores:\n",
    "        for item in movie_list:\n",
    "            if item not in prefs[other]:\n",
    "                continue\n",
    "            totals.setdefault(item, 0)\n",
    "            # The final score is calculated by multiplying each item by the\n",
    "            #   similarity and adding these products together\n",
    "            totals[item] += prefs[other][item] * sim\n",
    "            # Sum of similarities\n",
    "            simSums.setdefault(item, 0)\n",
    "            simSums[item] += sim  \n",
    "            \n",
    "#     for other in prefs:\n",
    "#         if other == person:\n",
    "#             continue\n",
    "#         sim = similarity(prefs, person, other)\n",
    "#         if sim <= 0.74:\n",
    "#             continue\n",
    "#         for item in movie_list:\n",
    "#             if item not in prefs[other]:\n",
    "#                 continue\n",
    "#             totals.setdefault(item, 0)\n",
    "#             # The final score is calculated by multiplying each item by the\n",
    "#             #   similarity and adding these products together\n",
    "#             totals[item] += prefs[other][item] * sim\n",
    "#             # Sum of similarities\n",
    "#             simSums.setdefault(item, 0)\n",
    "#             simSums[item] += sim            \n",
    "        \n",
    "    # Create the normalized list\n",
    "    rankings = [(total / simSums[item], item) for (item, total) in\n",
    "                totals.items()]\n",
    "    rankings.sort()\n",
    "    rankings.reverse()\n",
    "    return rankings\n",
    "\n",
    "#calculate the scores of the movies by item-based CF\n",
    "def calculateMoviesScoreByItemBased(prefs, person, movie_list, similarity=sim_pearson):\n",
    "    userRatings = prefs[person]\n",
    "    itemPrefs = transformPrefs(prefs)\n",
    "    scores = {}\n",
    "    totalSim = {}\n",
    "    # Loop over items rated by this user\n",
    "    for (item, rating) in userRatings.items():\n",
    "        # Loop over items similar to this one\n",
    "        for movie in movie_list:\n",
    "            same_item = [u for u in itemPrefs[movie] if u in itemPrefs[item]]\n",
    "            if len(same_item) < 10:\n",
    "                continue\n",
    "            sim = similarity(itemPrefs, item, movie)\n",
    "            if sim <= 0:\n",
    "                continue\n",
    "            # Weighted sum of rating times similarity\n",
    "            scores.setdefault(movie, 0)\n",
    "            scores[movie] += sim * rating\n",
    "            # Sum of all the similarities\n",
    "            totalSim.setdefault(movie, 0)\n",
    "            totalSim[movie] += sim\n",
    "\n",
    "    # Loop over items rated by this user\n",
    "#     for (item, rating) in userRatings.items():\n",
    "#         # Loop over items similar to this one\n",
    "#         for movie in movie_list:\n",
    "#             sim = similarity(itemPrefs, item, movie)\n",
    "#             if sim <= 0:\n",
    "#                 continue\n",
    "#             # Weighted sum of rating times similarity\n",
    "#             scores.setdefault(movie, 0)\n",
    "#             scores[movie] += sim * rating\n",
    "#             # Sum of all the similarities\n",
    "#             totalSim.setdefault(movie, 0)\n",
    "#             totalSim[movie] += sim            \n",
    "    # Divide each total score by total weighting to get an average\n",
    "    rankings = [(score / totalSim[item], item) for (item, score) in\n",
    "                scores.items()]\n",
    "    # Return the rankings from highest to lowest\n",
    "    rankings.sort()\n",
    "    rankings.reverse()\n",
    "    return rankings"
   ]
  },
  {
   "cell_type": "code",
   "execution_count": 11,
   "metadata": {
    "collapsed": false
   },
   "outputs": [
    {
     "name": "stdout",
     "output_type": "stream",
     "text": [
      "user-based CF spent: 0.0722999572754  seconds\n"
     ]
    }
   ],
   "source": [
    "#User-based CF\n",
    "start = time.time()\n",
    "rankings = calculateMoviesScoreByUserBased(critics, 'fan', predicts)\n",
    "print \"user-based CF spent:\" , time.time()-start , \" seconds\""
   ]
  },
  {
   "cell_type": "code",
   "execution_count": 12,
   "metadata": {
    "collapsed": false
   },
   "outputs": [
    {
     "name": "stdout",
     "output_type": "stream",
     "text": [
      "Shawshank Redemption, The (1994) 4.7\n",
      "Schindler's List (1993) 4.6\n",
      "American Beauty (1999) 4.5\n",
      "Back to the Future (1985) 4.4\n",
      "Matrix, The (1999) 4.4\n",
      "Aliens (1986) 4.3\n",
      "Gladiator (2000) 3.9\n",
      "Copycat (1995) 3.5\n",
      "Fight Club (1999) 3.3\n",
      "Street Fighter (1994) 3.0\n",
      "Beach, The (2000) 3.0\n"
     ]
    }
   ],
   "source": [
    "for score, item in rankings:\n",
    "    print item, round(score,1)"
   ]
  },
  {
   "cell_type": "code",
   "execution_count": 13,
   "metadata": {
    "collapsed": false
   },
   "outputs": [
    {
     "name": "stdout",
     "output_type": "stream",
     "text": [
      "item-based CF spent: 1.11612606049  seconds\n"
     ]
    }
   ],
   "source": [
    "#Item-based CF\n",
    "start = time.time()\n",
    "rankings_itembased = calculateMoviesScoreByItemBased(critics, 'fan', predicts)\n",
    "print \"item-based CF spent:\" , time.time()-start , \" seconds\""
   ]
  },
  {
   "cell_type": "code",
   "execution_count": 15,
   "metadata": {
    "collapsed": false
   },
   "outputs": [
    {
     "name": "stdout",
     "output_type": "stream",
     "text": [
      "Shawshank Redemption, The (1994) 3.72\n",
      "Back to the Future (1985) 3.46\n",
      "Street Fighter (1994) 3.4\n",
      "Gladiator (2000) 3.27\n",
      "Beach, The (2000) 3.2\n",
      "Schindler's List (1993) 3.17\n",
      "Copycat (1995) 3.16\n",
      "Matrix, The (1999) 3.12\n",
      "Aliens (1986) 2.91\n",
      "American Beauty (1999) 2.77\n",
      "Fight Club (1999) 2.45\n"
     ]
    }
   ],
   "source": [
    "for score,item in rankings_itembased:\n",
    "    print item,round(score,2)"
   ]
  },
  {
   "cell_type": "markdown",
   "metadata": {},
   "source": [
    "### 2. 45-year-old female Favorite Movie ###"
   ]
  },
  {
   "cell_type": "code",
   "execution_count": 17,
   "metadata": {
    "collapsed": true
   },
   "outputs": [],
   "source": [
    "female45 = {}\n",
    "for user in users:\n",
    "    if users[user]['sex'] == 'F' and users[user]['age'] == 45 :\n",
    "        female45[user] = users[user]"
   ]
  },
  {
   "cell_type": "code",
   "execution_count": 18,
   "metadata": {
    "collapsed": false
   },
   "outputs": [
    {
     "name": "stdout",
     "output_type": "stream",
     "text": [
      "American Beauty (1999),86,4.12790697674\n",
      "Shakespeare in Love (1998),81,4.23456790123\n",
      "Schindler's List (1993),71,4.70422535211\n",
      "Silence of the Lambs, The (1991),71,3.94366197183\n",
      "Forrest Gump (1994),68,4.08823529412\n",
      "Groundhog Day (1993),67,3.82089552239\n",
      "Star Wars: Episode IV - A New Hope (1977),65,4.41538461538\n",
      "Fargo (1996),65,4.13846153846\n",
      "E.T. the Extra-Terrestrial (1982),65,4.10769230769\n",
      "Babe (1995),63,4.04761904762\n",
      "----final result----\n",
      "Schindler's List (1993),71,4.70422535211\n",
      "Star Wars: Episode IV - A New Hope (1977),65,4.41538461538\n",
      "Shakespeare in Love (1998),81,4.23456790123\n",
      "Fargo (1996),65,4.13846153846\n",
      "American Beauty (1999),86,4.12790697674\n",
      "E.T. the Extra-Terrestrial (1982),65,4.10769230769\n",
      "Forrest Gump (1994),68,4.08823529412\n",
      "Babe (1995),63,4.04761904762\n",
      "Silence of the Lambs, The (1991),71,3.94366197183\n",
      "Groundhog Day (1993),67,3.82089552239\n"
     ]
    }
   ],
   "source": [
    "female45_rating = {}\n",
    "for person in critics.keys():\n",
    "    if person not in female45:\n",
    "        continue\n",
    "    for item in critics[person]:\n",
    "        if item not in female45_rating:\n",
    "            female45_rating[item] = {\n",
    "                'summary':0,\n",
    "                'count':0\n",
    "            }\n",
    "        female45_rating[item]['summary']+=critics[person][item]\n",
    "        female45_rating[item]['count']+=1\n",
    "\n",
    "for movie in list(female45_rating):\n",
    "    item = female45_rating[movie]\n",
    "    count = item['count']\n",
    "    if count < 50:\n",
    "        del female45_rating[movie]\n",
    "        continue\n",
    "    female45_rating[movie]['average'] = item['summary']/item['count']\n",
    "\n",
    "\n",
    "a = female45_rating.items()\n",
    "a.sort(key=lambda x: (x[1]['count'], x[1]['average']),reverse=True)\n",
    "\n",
    "b = a[0:10]\n",
    "b.sort(key=lambda x: (x[1]['average']), reverse=True)\n",
    "for r in a[0:10]:\n",
    "    print r[0] + ',' + str(r[1]['count']) + ',' + str(r[1]['average'])\n",
    "    \n",
    "print '----final result----'\n",
    "for r in b:\n",
    "    print r[0] + ',' + str(r[1]['count']) + ',' + str(r[1]['average'])"
   ]
  },
  {
   "cell_type": "code",
   "execution_count": 25,
   "metadata": {
    "collapsed": true
   },
   "outputs": [],
   "source": []
  },
  {
   "cell_type": "code",
   "execution_count": 19,
   "metadata": {
    "collapsed": false
   },
   "outputs": [],
   "source": [
    "#import pandas as pd\n",
    "#users2 = {}\n",
    "#for line in f_users:\n",
    "    #(uid,sex,age,occupation,zipcode) = line.split('::')\n",
    "    #users2[uid] = {\n",
    "        #'uid':uid,\n",
    "        #'sex':sex,\n",
    "        #'age':age\n",
    "    #}\n",
    "#df_users = pd.DataFrame(users2)\n",
    "#df_users =df_users.T\n",
    "#df_users = df_users[(df_users.age == '45') & (df_users.sex == 'F' )]\n",
    "\n",
    "#movies2 = {}\n",
    "#for line in f_movies:\n",
    "    #(mid,title,genres) = line.split('::')\n",
    "    #movies2[mid] = {\n",
    "        #'mid':mid,\n",
    "        #'title':title\n",
    "    #}    \n",
    "#df_movies = pd.DataFrame(movies2).T\n",
    "\n",
    "#critics2 = {}\n",
    "#for line in f_ratings:\n",
    "    #(uid,mid,rating,timestamp) = line.split('::')\n",
    "    #critics2[uid,mid] = {\n",
    "            #'uid':uid,\n",
    "            #'mid':mid,\n",
    "            #'rating':int(rating)\n",
    "    #}\n",
    "#df_ratings = pd.DataFrame(critics2).T"
   ]
  },
  {
   "cell_type": "code",
   "execution_count": 28,
   "metadata": {
    "collapsed": true
   },
   "outputs": [],
   "source": [
    "#df_user_rating = pd.merge(df_users,df_ratings,on='uid',how='left')\n",
    "#df_user_rating_movie = pd.merge(df_user_rating,df_movies,on='mid',how='left')\n",
    "#df_user_rating_movie['rating'] =df_user_rating_movie['rating'].astype(int)"
   ]
  },
  {
   "cell_type": "code",
   "execution_count": 37,
   "metadata": {
    "collapsed": false
   },
   "outputs": [
    {
     "name": "stdout",
     "output_type": "stream",
     "text": [
      "                                               rating               \n",
      "                                                count  sum      mean\n",
      "mid  title                                                          \n",
      "527  Schindler's List (1993)                       71  334  4.704225\n",
      "260  Star Wars: Episode IV - A New Hope (1977)     65  287  4.415385\n",
      "2396 Shakespeare in Love (1998)                    81  343  4.234568\n",
      "608  Fargo (1996)                                  65  269  4.138462\n",
      "2858 American Beauty (1999)                        86  355  4.127907\n",
      "1097 E.T. the Extra-Terrestrial (1982)             65  267  4.107692\n",
      "356  Forrest Gump (1994)                           68  278  4.088235\n",
      "34   Babe (1995)                                   63  255  4.047619\n",
      "593  Silence of the Lambs, The (1991)              71  280  3.943662\n",
      "1265 Groundhog Day (1993)                          67  256  3.820896\n"
     ]
    }
   ],
   "source": [
    "#df_avg = df_user_rating_movie.drop('age',axis=1) \\\n",
    "#.drop('sex',axis=1).drop('uid',axis=1) \\\n",
    "#.groupby(['mid','title']).agg(['count','sum','mean']) \\\n",
    "#.sort_values(by=[('rating','count'),('rating','mean')],ascending=False)\n",
    "\n",
    "#print(df_avg.head(10).sort_values(by=('rating','mean'),ascending=False))"
   ]
  },
  {
   "cell_type": "markdown",
   "metadata": {},
   "source": [
    "### 3. Similarity Movies by Item-based CF ###"
   ]
  },
  {
   "cell_type": "code",
   "execution_count": 21,
   "metadata": {
    "collapsed": false
   },
   "outputs": [
    {
     "data": {
      "text/plain": [
       "[(0.6303863801210986, 'Toy Story 2 (1999)'),\n",
       " (0.5746957711326909, 'Hear My Song (1991)'),\n",
       " (0.5661033405974422, 'Woman on Top (2000)'),\n",
       " (0.559059839179094, 'Polish Wedding (1998)'),\n",
       " (0.5472774683663487, 'Star Kid (1997)'),\n",
       " (0.5432567988390745, 'Crimson Pirate, The (1952)'),\n",
       " (0.5066264033306871, 'House Arrest (1996)'),\n",
       " (0.5065204054284228, 'Andre (1994)'),\n",
       " (0.4998487736618072, 'Little Big League (1994)'),\n",
       " (0.491433124188546, 'Incredible Journey, The (1963)')]"
      ]
     },
     "execution_count": 21,
     "metadata": {},
     "output_type": "execute_result"
    }
   ],
   "source": [
    "itemPrefs = transformPrefs(critics)\n",
    "topMatchesItem(itemPrefs, 'Toy Story (1995)', 10, 30)"
   ]
  },
  {
   "cell_type": "code",
   "execution_count": 22,
   "metadata": {
    "collapsed": false
   },
   "outputs": [
    {
     "data": {
      "text/plain": [
       "{'Air Force One (1997)': 4.0,\n",
       " 'Assassins (1995)': 3.0,\n",
       " 'Balto (1995)': 1.0,\n",
       " 'Die Hard: With a Vengeance (1995)': 4.0,\n",
       " 'Emma (1996)': 1.0,\n",
       " 'Forrest Gump (1994)': 5.0,\n",
       " 'GoldenEye (1995)': 2.0,\n",
       " 'Green Mile, The (1999)': 5.0,\n",
       " 'Jumanji (1995)': 4.0,\n",
       " 'Nixon (1995)': 1.0,\n",
       " 'Saving Private Ryan (1998)': 5.0,\n",
       " 'Sense and Sensibility (1995)': 1.0,\n",
       " 'Seven (Se7en) (1995)': 2.0,\n",
       " 'Silence of the Lambs, The (1991)': 2.0,\n",
       " 'Star Wars: Episode I - The Phantom Menace (1999)': 4.0,\n",
       " 'Sudden Death (1995)': 2.0,\n",
       " 'Terminator 2: Judgment Day (1991)': 2.0,\n",
       " 'Titanic (1997)': 5.0,\n",
       " 'Toy Story (1995)': 5.0}"
      ]
     },
     "execution_count": 22,
     "metadata": {},
     "output_type": "execute_result"
    }
   ],
   "source": [
    "critics['fan']"
   ]
  },
  {
   "cell_type": "code",
   "execution_count": 120,
   "metadata": {
    "collapsed": false
   },
   "outputs": [],
   "source": [
    "# Top10 Distance Similarity\n",
    "#def topMatchesdistance(prefs, movies, n=10, similarity=sim_distance):\n",
    "    #'''\n",
    "    #Returns the best matches for person from the prefs dictionary.\n",
    "    #Number of results and similarity function are optional params.\n",
    "    #'''\n",
    "    #scores = [(similarity(prefs, movies, other), other) for other in prefs\n",
    "              #if other != movies]\n",
    "    #scores.sort()\n",
    "    #scores.reverse()\n",
    "\n",
    "    #return scores[0:n]\n",
    "\n",
    "# Top10 Pearson Similarity\n",
    "#def topMatchespearson(prefs, movies, n=10, similarity=sim_pearson):\n",
    "    #'''\n",
    "    #Returns the best matches for person from the prefs dictionary.\n",
    "    #Number of results and similarity function are optional params.\n",
    "    #'''\n",
    "    #scores = [(similarity(prefs, movies, other), other) for other in prefs\n",
    "              #if other != movies]\n",
    "    #scores.sort()\n",
    "    #scores.reverse()\n",
    "\n",
    "    #return scores[0:n]\n",
    "\n",
    "#def calculateSimilarItemspearson(prefs, item_search, n=9999, similarity=sim_pearson):\n",
    "    #result = {}\n",
    "    ## Invert the preference matrix to be item-centric\n",
    "    #itemPrefs = transformPrefs(prefs)\n",
    "    #for item in itemPrefs:\n",
    "        ## Find the most similar items to this one\n",
    "        #if item in item_search:\n",
    "            #similar_item = topMatchespearson(itemPrefs, item, n=n, similarity=sim_pearson)\n",
    "            #result[item] = similar_item\n",
    "    #return result\n",
    "\n",
    "\n",
    "#def calculateSimilarItemsdistance(prefs, item_search, n=9999, similarity=sim_distance):\n",
    "    #result = {}\n",
    "    #itemresult = {}\n",
    "    ## Invert the preference matrix to be item-centric\n",
    "    #itemPrefs = transformPrefs(prefs)\n",
    "    #for key,value in itemPrefs.items():\n",
    "        #temp_count = len(list(filter(bool, value)))\n",
    "        #if temp_count >= 10:\n",
    "            #itemresult.update(itemPrefs)\n",
    "    #for item in itemresult:\n",
    "        ## Find the most similar items to this one\n",
    "        #if item in item_search:\n",
    "            #similar_item = topMatchesdistance(itemresult, item, n=n, similarity=sim_distance)\n",
    "            #result[item] = similar_item\n",
    "    #return result\n"
   ]
  },
  {
   "cell_type": "code",
   "execution_count": 121,
   "metadata": {
    "collapsed": true
   },
   "outputs": [],
   "source": [
    "#movie_name = 'Toy Story (1995)'"
   ]
  },
  {
   "cell_type": "code",
   "execution_count": 122,
   "metadata": {
    "collapsed": false
   },
   "outputs": [],
   "source": [
    "#sim_list_distance = calculateSimilarItemsdistance(critics, {movie_name: ''})"
   ]
  },
  {
   "cell_type": "code",
   "execution_count": 123,
   "metadata": {
    "collapsed": false
   },
   "outputs": [
    {
     "name": "stdout",
     "output_type": "stream",
     "text": [
      "(1.0, 'Yankee Zulu (1994)')\n",
      "(1.0, 'With Friends Like These... (1998)')\n",
      "(1.0, 'To Have, or Not (1995)')\n",
      "(1.0, 'Ten Benny (1997)')\n",
      "(1.0, 'Sticky Fingers of Time, The (1997)')\n",
      "(1.0, 'Sonic Outlaws (1995)')\n",
      "(1.0, 'Small Wonders (1996)')\n",
      "(1.0, 'Show, The (1995)')\n",
      "(1.0, 'Rosie (1998)')\n",
      "(1.0, 'Promise, The (Versprechen, Das) (1994)')\n"
     ]
    }
   ],
   "source": [
    "#for r in sim_list_distance[movie_name][0:10]:\n",
    "    #print r"
   ]
  },
  {
   "cell_type": "code",
   "execution_count": 124,
   "metadata": {
    "collapsed": false
   },
   "outputs": [],
   "source": [
    "#sim_list_pearson = calculateSimilarItemspearson(critics, {movie_name: ''})"
   ]
  },
  {
   "cell_type": "code",
   "execution_count": 125,
   "metadata": {
    "collapsed": false
   },
   "outputs": [
    {
     "name": "stdout",
     "output_type": "stream",
     "text": [
      "(1.0000000000000033, 'Black Sunday (La Maschera Del Demonio) (1960)')\n",
      "(1.0, 'Talk of Angels (1998)')\n",
      "(1.0, 'Sunset Park (1996)')\n",
      "(1.0, 'Stag (1997)')\n",
      "(1.0, 'Small Wonders (1996)')\n",
      "(1.0, 'Six Ways to Sunday (1997)')\n",
      "(1.0, 'Simon Sez (1999)')\n",
      "(1.0, 'Secret Agent, The (1996)')\n",
      "(1.0, 'Penitentiary II (1982)')\n",
      "(1.0, 'Paris, France (1993)')\n"
     ]
    }
   ],
   "source": [
    "#for r in sim_list_pearson[movie_name][0:10]:\n",
    "    #print r"
   ]
  },
  {
   "cell_type": "code",
   "execution_count": null,
   "metadata": {
    "collapsed": true
   },
   "outputs": [],
   "source": []
  }
 ],
 "metadata": {
  "kernelspec": {
   "display_name": "Python 2",
   "language": "python",
   "name": "python2"
  },
  "language_info": {
   "codemirror_mode": {
    "name": "ipython",
    "version": 2
   },
   "file_extension": ".py",
   "mimetype": "text/x-python",
   "name": "python",
   "nbconvert_exporter": "python",
   "pygments_lexer": "ipython2",
   "version": "2.7.13"
  }
 },
 "nbformat": 4,
 "nbformat_minor": 2
}
